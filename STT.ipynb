{
 "cells": [
  {
   "cell_type": "code",
   "execution_count": 1,
   "metadata": {},
   "outputs": [],
   "source": [
    "import speech_recognition as sr\n",
    "\n"
   ]
  },
  {
   "cell_type": "code",
   "execution_count": 11,
   "metadata": {},
   "outputs": [
    {
     "name": "stdout",
     "output_type": "stream",
     "text": [
      "lamp off\n"
     ]
    }
   ],
   "source": [
    "stt= sr.Recognizer()\n",
    "with sr.Microphone() as source:\n",
    "     stt.pause_threshold = 4\n",
    "     udio= stt.listen(source)\n",
    "text = stt.recognize_google(udio, language='fa-IR')\n",
    "text\n",
    "if \"لامپ\" in text and \"روشن\" in text:\n",
    "    print(\"lamp on\")\n",
    "\n",
    "if \"لامپ\"  in text and  \"خاموش\"  in text:\n",
    "      print(\"lamp off\")\n"
   ]
  }
 ],
 "metadata": {
  "kernelspec": {
   "display_name": "base",
   "language": "python",
   "name": "python3"
  },
  "language_info": {
   "codemirror_mode": {
    "name": "ipython",
    "version": 3
   },
   "file_extension": ".py",
   "mimetype": "text/x-python",
   "name": "python",
   "nbconvert_exporter": "python",
   "pygments_lexer": "ipython3",
   "version": "3.8.8"
  }
 },
 "nbformat": 4,
 "nbformat_minor": 2
}
